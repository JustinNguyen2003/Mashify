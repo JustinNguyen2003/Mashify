{
 "cells": [
  {
   "cell_type": "markdown",
   "metadata": {},
   "source": [
    "# Mashify\n",
    "This notebook serves as a walkthrough of the mashify process."
   ]
  },
  {
   "cell_type": "code",
   "execution_count": null,
   "metadata": {},
   "outputs": [],
   "source": [
    "import numpy as np\n",
    "import librosa\n",
    "import scipy.linalg\n",
    "import matplotlib.pyplot as plt\n",
    "from scipy.stats import zscore\n",
    "import demucs.separate\n",
    "\n",
    "from dataclasses import dataclass\n",
    "from typing import List, Tuple\n",
    "import os"
   ]
  },
  {
   "cell_type": "markdown",
   "metadata": {
    "vscode": {
     "languageId": "plaintext"
    }
   },
   "source": [
    "## Song Analysis Step:\n",
    "\n",
    "Includes music attribute extraction (extracting key, tempo), music source separation (separating tracks into drums, bass, vocals, other), and music structure analysis (segmenting parts of a song into its intro, verse, chorus, etc.)\n",
    "\n",
    "### Music Attribute Extraction:\n",
    "\n",
    "Extracting the tempo:"
   ]
  },
  {
   "cell_type": "code",
   "execution_count": 9,
   "metadata": {},
   "outputs": [
    {
     "name": "stdout",
     "output_type": "stream",
     "text": [
      "The song's tempo in BPM is: [103.359375]\n"
     ]
    }
   ],
   "source": [
    "def get_bpm(song_file: str):\n",
    "    # Load the audio file\n",
    "    y, sr = librosa.load(song_file)\n",
    "\n",
    "    # Estimate the tempo (BPM)\n",
    "    tempo, beat_frames = librosa.beat.beat_track(y=y, sr=sr)\n",
    "\n",
    "    return tempo\n",
    "\n",
    "song_path = \"songs/cherry_wine.mp3\" # your file name here\n",
    "song_bpm = get_bpm(song_path)\n",
    "print(\"The song's tempo in BPM is:\", song_bpm)"
   ]
  },
  {
   "cell_type": "markdown",
   "metadata": {},
   "source": [
    "Extracting the key:"
   ]
  },
  {
   "cell_type": "code",
   "execution_count": null,
   "metadata": {},
   "outputs": [
    {
     "name": "stdout",
     "output_type": "stream",
     "text": [
      "Extracting chroma features...\n",
      "Estimating key...\n",
      "Predicted Keys:\n",
      "1. E Minor (Confidence: 0.58)\n",
      "2. B Minor (Confidence: 0.45)\n",
      "3. E Major (Confidence: 0.45)\n"
     ]
    },
    {
     "data": {
      "image/png": "[encoded data removed]",
      "text/plain": [
       "<Figure size 1000x400 with 1 Axes>"
      ]
     },
     "metadata": {},
     "output_type": "display_data"
    }
   ],
   "source": [
    "@dataclass\n",
    "class KeyEstimator:\n",
    "    \"\"\"\n",
    "    Estimates the musical key of a song based on chroma feature matching.\n",
    "    \"\"\"\n",
    "\n",
    "    # Krumhansl-Schmuckler Key Profiles\n",
    "    major_template = np.asarray(\n",
    "        [6.35, 2.23, 3.48, 2.33, 4.38, 4.09, 2.52, 5.19, 2.39, 3.66, 2.29, 2.88]\n",
    "    )\n",
    "    minor_template = np.asarray(\n",
    "        [6.33, 2.68, 3.52, 5.38, 2.60, 3.53, 2.54, 4.75, 3.98, 2.69, 3.34, 3.17]\n",
    "    )\n",
    "\n",
    "    def __post_init__(self):\n",
    "        # Normalize and create circulant matrices for template matching\n",
    "        self.major_template = zscore(self.major_template)\n",
    "        self.major_norm = scipy.linalg.norm(self.major_template)\n",
    "        self.major_template = scipy.linalg.circulant(self.major_template)\n",
    "\n",
    "        self.minor_template = zscore(self.minor_template)\n",
    "        self.minor_norm = scipy.linalg.norm(self.minor_template)\n",
    "        self.minor_template = scipy.linalg.circulant(self.minor_template)\n",
    "\n",
    "    def estimate_key(self, chroma_vector: np.array, top_n: int = 3) -> List[Tuple[str, float]]:\n",
    "        \"\"\"\n",
    "        Estimates the most likely keys from the given chroma vector.\n",
    "        Returns the top `top_n` best-matching keys with confidence scores.\n",
    "        \"\"\"\n",
    "        chroma_vector = zscore(chroma_vector)\n",
    "        chroma_norm = scipy.linalg.norm(chroma_vector)\n",
    "\n",
    "        # Compute similarity scores\n",
    "        major_scores = self.major_template.T.dot(chroma_vector) / self.major_norm / chroma_norm\n",
    "        minor_scores = self.minor_template.T.dot(chroma_vector) / self.minor_norm / chroma_norm\n",
    "\n",
    "        key_names = ['C', 'C#', 'D', 'D#', 'E', 'F', 'F#', 'G', 'G#', 'A', 'A#', 'B']\n",
    "\n",
    "        # Create a sorted list of key matches with scores\n",
    "        all_keys = []\n",
    "        for i in range(12):\n",
    "            all_keys.append((f\"{key_names[i]} Major\", major_scores[i]))\n",
    "            all_keys.append((f\"{key_names[i]} Minor\", minor_scores[i]))\n",
    "\n",
    "        # Sort by confidence score (highest first)\n",
    "        all_keys = sorted(all_keys, key=lambda x: x[1], reverse=True)\n",
    "\n",
    "        # Return top `top_n` possible keys\n",
    "        return all_keys[:top_n]\n",
    "\n",
    "\n",
    "def extract_chroma_features(song_path: str) -> np.array:\n",
    "    \"\"\"\n",
    "    Extracts chroma features from an audio file.\n",
    "    Uses Harmonic-Percussive Source Separation (HPSS) for better accuracy.\n",
    "    \"\"\"\n",
    "    y, sr = librosa.load(song_path, sr=None)  # Load audio file\n",
    "\n",
    "    # Apply Harmonic-Percussive Source Separation (HPSS)\n",
    "    harmonic, _ = librosa.effects.hpss(y)\n",
    "\n",
    "    # Extract chroma features using Constant-Q Transform (CQT)\n",
    "    chroma = librosa.feature.chroma_cqt(y=harmonic, sr=sr)\n",
    "\n",
    "    # Compute the mean chroma vector over the entire song\n",
    "    avg_chroma = np.mean(chroma, axis=1)\n",
    "\n",
    "    return avg_chroma\n",
    "\n",
    "def plot_chroma(chroma_vector: np.array):\n",
    "    \"\"\"\n",
    "    Plots the chroma feature vector for visualization.\n",
    "    \"\"\"\n",
    "    key_labels = ['C', 'C#', 'D', 'D#', 'E', 'F', 'F#', 'G', 'G#', 'A', 'A#', 'B']\n",
    "\n",
    "    plt.figure(figsize=(10, 4))\n",
    "    plt.bar(key_labels, chroma_vector, color='blue')\n",
    "    plt.xlabel(\"Pitch Class\")\n",
    "    plt.ylabel(\"Intensity\")\n",
    "    plt.title(\"Chroma Feature Distribution\")\n",
    "    plt.show()\n",
    "\n",
    "\n",
    "# ====== Example Usage ======\n",
    "song_path = \"songs/cherry_wine.mp3\"  # your file name here\n",
    "\n",
    "print(\"Extracting chroma features...\")\n",
    "chroma_vector = extract_chroma_features(song_path)\n",
    "\n",
    "print(\"Estimating key...\")\n",
    "estimator = KeyEstimator()\n",
    "top_keys = estimator.estimate_key(chroma_vector, top_n=3)\n",
    "\n",
    "print(\"Predicted Keys:\")\n",
    "for i, (key, score) in enumerate(top_keys):\n",
    "    print(f\"{i+1}. {key} (Confidence: {score:.2f})\")\n",
    "\n",
    "# Plot chroma feature distribution\n",
    "plot_chroma(chroma_vector)"
   ]
  },
  {
   "cell_type": "markdown",
   "metadata": {},
   "source": [
    "### Music Source Separation:"
   ]
  },
  {
   "cell_type": "code",
   "execution_count": null,
   "metadata": {},
   "outputs": [
    {
     "name": "stdout",
     "output_type": "stream",
     "text": [
      "Processing file: songs/cherry_wine.mp3\n",
      "Selected model is a bag of 1 models. You will see that many progress bars per track.\n",
      "Separated tracks will be stored in C:\\Users\\Jimmy\\Desktop\\Uni\\Fourth Year Uni\\SPRING 2025\\CSC 475\\Repo\\Mashify\\separated\\htdemucs\n",
      "Separating track songs\\cherry_wine.mp3\n"
     ]
    },
    {
     "name": "stderr",
     "output_type": "stream",
     "text": [
      "100%|████████████████████████████████████████████████████████████████████████| 175.5/175.5 [01:02<00:00,  2.82seconds/s]\n"
     ]
    },
    {
     "name": "stdout",
     "output_type": "stream",
     "text": [
      "Separation completed successfully.\n",
      "The separated tracks are located at:  ('separated/htdemucs/songs/cherry_wine/vocals.mp3', 'separated/htdemucs/songs/cherry_wine/other.mp3', 'separated/htdemucs/songs/cherry_wine/bass.mp3', 'separated/htdemucs/songs/cherry_wine/drums.mp3')\n"
     ]
    }
   ],
   "source": [
    "def isolate_song_parts(song_filepath: str):\n",
    "    \"\"\"\n",
    "    Separates the given song into vocals and instrumental parts using Demucs.\n",
    "\n",
    "    Args:\n",
    "        song_filepath (str): Path to the input song file.\n",
    "\n",
    "    Raises:\n",
    "        FileNotFoundError: If the song file does not exist.\n",
    "        ValueError: If the file extension is not supported.\n",
    "        RuntimeError: For any errors during the separation process.\n",
    "    \"\"\"\n",
    "    try:\n",
    "        # Check if the file exists\n",
    "        if not os.path.isfile(song_filepath):\n",
    "            raise FileNotFoundError(f\"File not found: {song_filepath}\")\n",
    "        \n",
    "        # Check if the file is an MP3 (or other supported format)\n",
    "        valid_extensions = {\".mp3\", \".wav\", \".flac\", \".ogg\"}\n",
    "        _, ext = os.path.splitext(song_filepath)\n",
    "        if ext.lower() not in valid_extensions:\n",
    "            raise ValueError(f\"Unsupported file format '{ext}'. Supported formats are: {', '.join(valid_extensions)}\")\n",
    "        \n",
    "        # Run Demucs separation\n",
    "        print(f\"Processing file: {song_filepath}\")\n",
    "        demucs.separate.main([\"--mp3\", \"-n\", \"htdemucs\", song_filepath]) # using the htdemucs model\n",
    "        print(\"Separation completed successfully.\")\n",
    "\n",
    "        song_name = song_filepath.replace(\".mp3\", \"\")\n",
    "        return(f\"separated/htdemucs/{song_name}/vocals.mp3\", f\"separated/htdemucs/{song_name}/other.mp3\", \n",
    "               f\"separated/htdemucs/{song_name}/bass.mp3\", f\"separated/htdemucs/{song_name}/drums.mp3\")\n",
    "\n",
    "    except FileNotFoundError as fnf_error:\n",
    "        print(f\"Error: {fnf_error}\")\n",
    "    except ValueError as val_error:\n",
    "        print(f\"Error: {val_error}\")\n",
    "    except Exception as e:\n",
    "        # Catch-all for unexpected errors\n",
    "        print(f\"An unexpected error occurred: {e}\")\n",
    "        raise RuntimeError(\"Demucs processing failed.\") from e\n",
    "    return (None, None)\n",
    "\n",
    "song_path = \"songs/cherry_wine.mp3\" # your file name here\n",
    "separated_track_paths = isolate_song_parts(song_path)\n",
    "print(\"The separated tracks are located at: \", separated_track_paths)"
   ]
  },
  {
   "cell_type": "markdown",
   "metadata": {},
   "source": [
    "### Music Structure Analysis:"
   ]
  },
  {
   "cell_type": "code",
   "execution_count": null,
   "metadata": {},
   "outputs": [],
   "source": []
  },
  {
   "cell_type": "markdown",
   "metadata": {},
   "source": [
    "## Mashing Step:\n",
    "\n",
    "Includes generating mashability score and mashup generation\n",
    "\n",
    "### Mashability Score"
   ]
  },
  {
   "cell_type": "code",
   "execution_count": null,
   "metadata": {},
   "outputs": [],
   "source": []
  },
  {
   "cell_type": "markdown",
   "metadata": {},
   "source": [
    "### Mashup Generation"
   ]
  },
  {
   "cell_type": "code",
   "execution_count": null,
   "metadata": {},
   "outputs": [],
   "source": []
  },
  {
   "cell_type": "markdown",
   "metadata": {},
   "source": [
    "## Evaluation Step:"
   ]
  },
  {
   "cell_type": "code",
   "execution_count": null,
   "metadata": {},
   "outputs": [],
   "source": []
  }
 ],
 "metadata": {
  "kernelspec": {
   "display_name": "mashify",
   "language": "python",
   "name": "python3"
  },
  "language_info": {
   "codemirror_mode": {
    "name": "ipython",
    "version": 3
   },
   "file_extension": ".py",
   "mimetype": "text/x-python",
   "name": "python",
   "nbconvert_exporter": "python",
   "pygments_lexer": "ipython3",
   "version": "3.12.9"
  }
 },
 "nbformat": 4,
 "nbformat_minor": 2
}
